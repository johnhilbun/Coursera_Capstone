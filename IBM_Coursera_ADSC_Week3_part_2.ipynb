{
    "nbformat_minor": 1, 
    "cells": [
        {
            "source": "## IBM Applied Data Science Capstone Project : Week 3 (part 2)", 
            "cell_type": "markdown", 
            "metadata": {
                "collapsed": true
            }
        }, 
        {
            "execution_count": 2, 
            "cell_type": "code", 
            "metadata": {}, 
            "outputs": [], 
            "source": "import pandas as pd\n\n# Get the HTML information\nrawinfo = pd.read_html (\"https://en.wikipedia.org/wiki/List_of_postal_codes_of_Canada:_M\", header=0)\n\n# Convert to a dataframe with 3 columns : Toronto Neighborhoods (tn)\ntn = rawinfo[0]\n\n# remove rows with 'Borough' equal 'Not Assigned'\nmask = tn['Borough'].isin(['Not assigned'])\ntn = tn[~mask]\n\n# reset the index now that 'Borough = Not assigned' rows have been removed\ntn.reset_index(inplace=True)\n\n# drop the original 'index'\ntn = tn.drop('index', axis=1)\n\n# rename 'Postcode' to 'PostalCode' to match the example\ntn.rename (columns={'Postcode':'PostalCode'}, inplace=True)\n\n# combine neighbourhoods in the same postal code\ntn = tn.groupby(['PostalCode', 'Borough'], sort = False).agg(lambda x: ', '.join(x))\n\n# add index back in\ntn.reset_index(inplace=True)"
        }, 
        {
            "execution_count": 3, 
            "cell_type": "code", 
            "metadata": {}, 
            "outputs": [], 
            "source": "# handle 'Neighbourhood' = 'Not assigned' even though there is a 'Borough'\nfor index, row in tn.iterrows():\n   if row.Neighbourhood == 'Not assigned':\n        tn.loc[index, 'Neighbourhood'] = tn.loc[index, 'Borough']"
        }, 
        {
            "execution_count": 4, 
            "cell_type": "code", 
            "metadata": {}, 
            "outputs": [
                {
                    "output_type": "stream", 
                    "name": "stdout", 
                    "text": "(103, 3)\n"
                }
            ], 
            "source": "print(tn.shape)"
        }, 
        {
            "source": "### Part 2 starts here:", 
            "cell_type": "markdown", 
            "metadata": {}
        }, 
        {
            "execution_count": 22, 
            "cell_type": "code", 
            "metadata": {}, 
            "outputs": [], 
            "source": "# Get the Latitude and Longitude information\ngeoinfo = pd.read_csv (\"http://cocl.us/Geospatial_data\", header=0)"
        }, 
        {
            "execution_count": 23, 
            "cell_type": "code", 
            "metadata": {}, 
            "outputs": [], 
            "source": "# rename 'Postal Code' to 'PostalCode' in order to merge\ngeoinfo.rename (columns={\"Postal Code\":\"PostalCode\"}, inplace=True)"
        }, 
        {
            "execution_count": 25, 
            "cell_type": "code", 
            "metadata": {}, 
            "outputs": [], 
            "source": "# combine tn dataframe ('PostalCode', 'Borough' and 'Neighbourhood') with geoinfo ('Latitude' and 'Longitude')\ntn_geo = tn.merge (geoinfo, on='PostalCode')"
        }, 
        {
            "execution_count": null, 
            "cell_type": "code", 
            "metadata": {}, 
            "outputs": [], 
            "source": ""
        }
    ], 
    "metadata": {
        "kernelspec": {
            "display_name": "Python 3.5", 
            "name": "python3", 
            "language": "python"
        }, 
        "language_info": {
            "mimetype": "text/x-python", 
            "nbconvert_exporter": "python", 
            "version": "3.5.5", 
            "name": "python", 
            "file_extension": ".py", 
            "pygments_lexer": "ipython3", 
            "codemirror_mode": {
                "version": 3, 
                "name": "ipython"
            }
        }
    }, 
    "nbformat": 4
}